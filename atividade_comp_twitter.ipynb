{
  "nbformat": 4,
  "nbformat_minor": 0,
  "metadata": {
    "colab": {
      "name": "atividade-comp-twitter",
      "provenance": [],
      "collapsed_sections": [],
      "include_colab_link": true
    },
    "kernelspec": {
      "display_name": "Python 3",
      "language": "python",
      "name": "python3"
    },
    "language_info": {
      "codemirror_mode": {
        "name": "ipython",
        "version": 3
      },
      "file_extension": ".py",
      "mimetype": "text/x-python",
      "name": "python",
      "nbconvert_exporter": "python",
      "pygments_lexer": "ipython3",
      "version": "3.7.6"
    }
  },
  "cells": [
    {
      "cell_type": "markdown",
      "metadata": {
        "id": "view-in-github",
        "colab_type": "text"
      },
      "source": [
        "<a href=\"https://colab.research.google.com/github/crllm/AppTB/blob/master/atividade_comp_twitter.ipynb\" target=\"_parent\"><img src=\"https://colab.research.google.com/assets/colab-badge.svg\" alt=\"Open In Colab\"/></a>"
      ]
    },
    {
      "cell_type": "markdown",
      "metadata": {
        "id": "ay22IdOj4CGc"
      },
      "source": [
        "# Carolyna Mantovani de Souza\n",
        "\n",
        "- Crie um novo notebook chamado \"atividade-comp-twitter\".\n",
        "- Insira seu nome no título do notebook.\n",
        "- Faça uma requisição ao Twitter de algum usuário de seu interesse.\n",
        "- Crie um data frame que armazene os tweets desse usuário, contendo informações sobre o nome, localização, quantidade de amigos e seguidores.\n",
        "- Crie um data frame que armazene a data e o texto dos tweets desse usuário\n"
      ]
    },
    {
      "cell_type": "code",
      "metadata": {
        "colab": {
          "base_uri": "https://localhost:8080/"
        },
        "id": "C0W-Nllt4mld",
        "outputId": "6cfa6692-1ce0-477a-a546-0f59aafb3a0c"
      },
      "source": [
        "# Instalando a dependencia do Twitter\n",
        "pip install tweepy"
      ],
      "execution_count": 8,
      "outputs": [
        {
          "output_type": "stream",
          "text": [
            "Requirement already satisfied: tweepy in /usr/local/lib/python3.6/dist-packages (3.6.0)\n",
            "Requirement already satisfied: requests>=2.11.1 in /usr/local/lib/python3.6/dist-packages (from tweepy) (2.23.0)\n",
            "Requirement already satisfied: six>=1.10.0 in /usr/local/lib/python3.6/dist-packages (from tweepy) (1.15.0)\n",
            "Requirement already satisfied: requests-oauthlib>=0.7.0 in /usr/local/lib/python3.6/dist-packages (from tweepy) (1.3.0)\n",
            "Requirement already satisfied: PySocks>=1.5.7 in /usr/local/lib/python3.6/dist-packages (from tweepy) (1.7.1)\n",
            "Requirement already satisfied: urllib3!=1.25.0,!=1.25.1,<1.26,>=1.21.1 in /usr/local/lib/python3.6/dist-packages (from requests>=2.11.1->tweepy) (1.24.3)\n",
            "Requirement already satisfied: chardet<4,>=3.0.2 in /usr/local/lib/python3.6/dist-packages (from requests>=2.11.1->tweepy) (3.0.4)\n",
            "Requirement already satisfied: certifi>=2017.4.17 in /usr/local/lib/python3.6/dist-packages (from requests>=2.11.1->tweepy) (2020.6.20)\n",
            "Requirement already satisfied: idna<3,>=2.5 in /usr/local/lib/python3.6/dist-packages (from requests>=2.11.1->tweepy) (2.10)\n",
            "Requirement already satisfied: oauthlib>=3.0.0 in /usr/local/lib/python3.6/dist-packages (from requests-oauthlib>=0.7.0->tweepy) (3.1.0)\n"
          ],
          "name": "stdout"
        }
      ]
    },
    {
      "cell_type": "code",
      "metadata": {
        "id": "_M9H0ShO0CPE"
      },
      "source": [
        "#importando as bibliotecas\n",
        "import tweepy\n",
        "import pandas as pd"
      ],
      "execution_count": 9,
      "outputs": []
    },
    {
      "cell_type": "code",
      "metadata": {
        "id": "E7UyT2Xn0Kwc"
      },
      "source": [
        "#definindo as chaves de acesso \n",
        "\n",
        "consumer_key = 'jor3IqmSlR9UIjrdSiisNJL0k'\n",
        "consumer_secret = 'NJbI026GnhyECwSKS6y7pqvJ58fHjjtnTJGcIbYepv57v4vncV'\n",
        "access_token = '1321602698744135680-mo7TB4XKvZmEfTQhXdmnp3oMhYRQlj'\n",
        "access_token_secret = 'qd1qda5HUHO2qZJwaK7HsJZHbRfP7l8hojJAiBR3mJJKW'"
      ],
      "execution_count": 10,
      "outputs": []
    },
    {
      "cell_type": "code",
      "metadata": {
        "id": "kUmZcCbD0Mra"
      },
      "source": [
        "#realizando a autenticação\n",
        "auth = tweepy.OAuthHandler(consumer_key, consumer_secret)\n",
        "auth.set_access_token(access_token, access_token_secret)"
      ],
      "execution_count": 11,
      "outputs": []
    },
    {
      "cell_type": "code",
      "metadata": {
        "id": "XXxM0Z8o0OyS"
      },
      "source": [
        "#criando um objeto para realizar requisições \n",
        "api = tweepy.API(auth, wait_on_rate_limit=True)"
      ],
      "execution_count": 12,
      "outputs": []
    },
    {
      "cell_type": "code",
      "metadata": {
        "colab": {
          "base_uri": "https://localhost:8080/",
          "height": 408
        },
        "id": "bqljFzJNz_90",
        "outputId": "47b28422-9029-4837-b9de-d0b90c8bec5c"
      },
      "source": [
        "#realizando a busca por tweets de um unico usuario\n",
        "qtd = 10\n",
        "tw_usuarios = []\n",
        "tw_local = []\n",
        "tw_tweet = []\n",
        "tw_amigos = []\n",
        "tw_seguidores = []\n",
        "resultados = api.user_timeline(id=\"uol\", count=qtd)\n",
        "\n",
        "for tweet in resultados:\n",
        "  #print([tweet.user.name,tweet.text,tweet.user.location,tweet.user.friends_count,tweet.user.followers_count])\n",
        "  tw_usuarios.append(tweet.user.name)\n",
        "  tw_local.append(tweet.user.location)\n",
        "  tw_tweet.append(tweet.text)\n",
        "  tw_amigos.append(tweet.user.friends_count)\n",
        "  tw_seguidores.append(tweet.user.followers_count)\n",
        "\n",
        "\n",
        "\n",
        "df_tw = pd.DataFrame({'usuario':tw_usuarios,'data':tw_local,'tweet':tw_tweet,'amigos':tw_amigos,'seguidores':tw_seguidores}) \n",
        "df_tw.info()\n",
        "df_tw.head()"
      ],
      "execution_count": 14,
      "outputs": [
        {
          "output_type": "stream",
          "text": [
            "<class 'pandas.core.frame.DataFrame'>\n",
            "RangeIndex: 10 entries, 0 to 9\n",
            "Data columns (total 5 columns):\n",
            " #   Column      Non-Null Count  Dtype \n",
            "---  ------      --------------  ----- \n",
            " 0   usuario     10 non-null     object\n",
            " 1   data        10 non-null     object\n",
            " 2   tweet       10 non-null     object\n",
            " 3   amigos      10 non-null     int64 \n",
            " 4   seguidores  10 non-null     int64 \n",
            "dtypes: int64(2), object(3)\n",
            "memory usage: 528.0+ bytes\n"
          ],
          "name": "stdout"
        },
        {
          "output_type": "execute_result",
          "data": {
            "text/html": [
              "<div>\n",
              "<style scoped>\n",
              "    .dataframe tbody tr th:only-of-type {\n",
              "        vertical-align: middle;\n",
              "    }\n",
              "\n",
              "    .dataframe tbody tr th {\n",
              "        vertical-align: top;\n",
              "    }\n",
              "\n",
              "    .dataframe thead th {\n",
              "        text-align: right;\n",
              "    }\n",
              "</style>\n",
              "<table border=\"1\" class=\"dataframe\">\n",
              "  <thead>\n",
              "    <tr style=\"text-align: right;\">\n",
              "      <th></th>\n",
              "      <th>usuario</th>\n",
              "      <th>data</th>\n",
              "      <th>tweet</th>\n",
              "      <th>amigos</th>\n",
              "      <th>seguidores</th>\n",
              "    </tr>\n",
              "  </thead>\n",
              "  <tbody>\n",
              "    <tr>\n",
              "      <th>0</th>\n",
              "      <td>UOL</td>\n",
              "      <td>Brasil</td>\n",
              "      <td>Consciência Negra: Dani Alves relembra quando ...</td>\n",
              "      <td>98</td>\n",
              "      <td>1765730</td>\n",
              "    </tr>\n",
              "    <tr>\n",
              "      <th>1</th>\n",
              "      <td>UOL</td>\n",
              "      <td>Brasil</td>\n",
              "      <td>Ibope em Boa Vista: Arthur Henrique (MDB) lide...</td>\n",
              "      <td>98</td>\n",
              "      <td>1765730</td>\n",
              "    </tr>\n",
              "    <tr>\n",
              "      <th>2</th>\n",
              "      <td>UOL</td>\n",
              "      <td>Brasil</td>\n",
              "      <td>Ibope: Edvaldo tem 55% e Delegada Danielle mar...</td>\n",
              "      <td>98</td>\n",
              "      <td>1765730</td>\n",
              "    </tr>\n",
              "    <tr>\n",
              "      <th>3</th>\n",
              "      <td>UOL</td>\n",
              "      <td>Brasil</td>\n",
              "      <td>Ibope São Luís: Braide apresenta 49% e Duarte ...</td>\n",
              "      <td>98</td>\n",
              "      <td>1765730</td>\n",
              "    </tr>\n",
              "    <tr>\n",
              "      <th>4</th>\n",
              "      <td>UOL</td>\n",
              "      <td>Brasil</td>\n",
              "      <td>CEO do Carrefour pede colaboração com a justiç...</td>\n",
              "      <td>98</td>\n",
              "      <td>1765730</td>\n",
              "    </tr>\n",
              "  </tbody>\n",
              "</table>\n",
              "</div>"
            ],
            "text/plain": [
              "  usuario    data  ... amigos  seguidores\n",
              "0     UOL  Brasil  ...     98     1765730\n",
              "1     UOL  Brasil  ...     98     1765730\n",
              "2     UOL  Brasil  ...     98     1765730\n",
              "3     UOL  Brasil  ...     98     1765730\n",
              "4     UOL  Brasil  ...     98     1765730\n",
              "\n",
              "[5 rows x 5 columns]"
            ]
          },
          "metadata": {
            "tags": []
          },
          "execution_count": 14
        }
      ]
    }
  ]
}